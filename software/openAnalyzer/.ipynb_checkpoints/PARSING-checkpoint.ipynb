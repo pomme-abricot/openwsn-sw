{
 "cells": [
  {
   "cell_type": "markdown",
   "metadata": {
    "deletable": true,
    "editable": true
   },
   "source": [
    "# Import needed libraries"
   ]
  },
  {
   "cell_type": "code",
   "execution_count": 1,
   "metadata": {
    "collapsed": false,
    "deletable": true,
    "editable": true
   },
   "outputs": [],
   "source": [
    "import os\n",
    "#import matplotlib.pyplot as plt\n",
    "import re\n",
    "import numpy as np\n",
    "from path import Path\n",
    "import csv\n",
    "from pandas import *\n",
    "import pandas as pd\n",
    "import sys\n",
    "import ast"
   ]
  },
  {
   "cell_type": "code",
   "execution_count": 2,
   "metadata": {
    "collapsed": true,
    "deletable": true,
    "editable": true
   },
   "outputs": [],
   "source": [
    "from func_search import *\n",
    "from func_taux_transm import *\n",
    "from func_def_class import *\n",
    "from func_res import *\n",
    "from func_parsing_logfile import *\n",
    "from func_parsing_csvfile import *"
   ]
  },
  {
   "cell_type": "markdown",
   "metadata": {
    "deletable": true,
    "editable": true
   },
   "source": [
    "# Parse data file into specific log files"
   ]
  },
  {
   "cell_type": "code",
   "execution_count": 3,
   "metadata": {
    "collapsed": false,
    "deletable": true,
    "editable": true
   },
   "outputs": [],
   "source": [
    "#### PARSING DES LOGS DANS DES SOUS FICHIER TXT\n",
    "sep_data_addr(\"data/sim_1_mod.log\")\n",
    "sep_data_event(\"data/sim_1_mod.log\")"
   ]
  },
  {
   "cell_type": "markdown",
   "metadata": {
    "deletable": true,
    "editable": true
   },
   "source": [
    "# Create paquet transmission and reception dataframes"
   ]
  },
  {
   "cell_type": "code",
   "execution_count": 4,
   "metadata": {
    "collapsed": false,
    "deletable": true,
    "editable": true,
    "scrolled": true
   },
   "outputs": [],
   "source": [
    "#### CREATION DES STRUCT PANDAS\n",
    "#fichier tx\n",
    "df_tx = create_df_tx(\"data/parsed/event/STAT_PK_TX.log\")\n",
    "df_tx.to_csv('data_csv/pkt_tx.csv',index=False)"
   ]
  },
  {
   "cell_type": "code",
   "execution_count": 3,
   "metadata": {
    "collapsed": false,
    "deletable": true,
    "editable": true
   },
   "outputs": [
    {
     "ename": "IOError",
     "evalue": "[Errno 2] No such file or directory: 'data/parsed/event/STAT_ACK_RX.log'",
     "output_type": "error",
     "traceback": [
      "\u001b[0;31m---------------------------------------------------------------------------\u001b[0m",
      "\u001b[0;31mIOError\u001b[0m                                   Traceback (most recent call last)",
      "\u001b[0;32m<ipython-input-3-bbed5a84fecd>\u001b[0m in \u001b[0;36m<module>\u001b[0;34m()\u001b[0m\n\u001b[1;32m      1\u001b[0m \u001b[0;31m# fichier rx\u001b[0m\u001b[0;34m\u001b[0m\u001b[0;34m\u001b[0m\u001b[0m\n\u001b[0;32m----> 2\u001b[0;31m \u001b[0mdf_rx\u001b[0m \u001b[0;34m=\u001b[0m \u001b[0mcreate_df_rx\u001b[0m\u001b[0;34m(\u001b[0m\u001b[0;34m\"data/parsed/event/STAT_PK_RX.log\"\u001b[0m\u001b[0;34m,\u001b[0m \u001b[0;34m\"data/parsed/event/STAT_ACK_RX.log\"\u001b[0m\u001b[0;34m)\u001b[0m\u001b[0;34m\u001b[0m\u001b[0m\n\u001b[0m\u001b[1;32m      3\u001b[0m \u001b[0mdf_rx\u001b[0m\u001b[0;34m.\u001b[0m\u001b[0mto_csv\u001b[0m\u001b[0;34m(\u001b[0m\u001b[0;34m'data_csv/pkt_rx.csv'\u001b[0m\u001b[0;34m,\u001b[0m\u001b[0mindex\u001b[0m\u001b[0;34m=\u001b[0m\u001b[0mFalse\u001b[0m\u001b[0;34m)\u001b[0m\u001b[0;34m\u001b[0m\u001b[0m\n",
      "\u001b[0;32m/home/sdc/heidsieck/openwsn-sw/software/openAnalyzer/func_parsing_csvfile.py\u001b[0m in \u001b[0;36mcreate_df_rx\u001b[0;34m(data_file_tx, data_file_ack_rx)\u001b[0m\n\u001b[1;32m     79\u001b[0m             \u001b[0mi\u001b[0m\u001b[0;34m+=\u001b[0m\u001b[0;36m1\u001b[0m\u001b[0;34m\u001b[0m\u001b[0m\n\u001b[1;32m     80\u001b[0m \u001b[0;34m\u001b[0m\u001b[0m\n\u001b[0;32m---> 81\u001b[0;31m     \u001b[0;32mwith\u001b[0m \u001b[0mopen\u001b[0m\u001b[0;34m(\u001b[0m\u001b[0mdata_file_ack_rx\u001b[0m\u001b[0;34m,\u001b[0m \u001b[0;34m\"r\"\u001b[0m\u001b[0;34m)\u001b[0m \u001b[0;32mas\u001b[0m \u001b[0mf_rx\u001b[0m\u001b[0;34m:\u001b[0m\u001b[0;34m\u001b[0m\u001b[0m\n\u001b[0m\u001b[1;32m     82\u001b[0m         \u001b[0;32mfor\u001b[0m \u001b[0mline\u001b[0m \u001b[0;32min\u001b[0m \u001b[0mf_rx\u001b[0m\u001b[0;34m:\u001b[0m\u001b[0;34m\u001b[0m\u001b[0m\n\u001b[1;32m     83\u001b[0m             \u001b[0;31m#pour chaque ligne on met la variable ack de la rx associÃ©e a 1\u001b[0m\u001b[0;34m\u001b[0m\u001b[0;34m\u001b[0m\u001b[0m\n",
      "\u001b[0;31mIOError\u001b[0m: [Errno 2] No such file or directory: 'data/parsed/event/STAT_ACK_RX.log'"
     ]
    }
   ],
   "source": [
    "# fichier rx\n",
    "df_rx = create_df_rx(\"data/parsed/event/STAT_PK_RX.log\", \"data/parsed/event/STAT_ACK.log\")\n",
    "df_rx.to_csv('data_csv/pkt_rx.csv',index=False)"
   ]
  },
  {
   "cell_type": "markdown",
   "metadata": {
    "deletable": true,
    "editable": true
   },
   "source": [
    "# Complete the transmission dataframe"
   ]
  },
  {
   "cell_type": "code",
   "execution_count": 9,
   "metadata": {
    "collapsed": false,
    "deletable": true,
    "editable": true
   },
   "outputs": [],
   "source": [
    "#Change some columns type for the nexts operations\n",
    "df_tx = pd.read_csv(r'data_csv/pkt_tx.csv', dtype=str)\n",
    "df_tx[\"asn\"] = df_tx[\"asn\"].astype(int)\n",
    "df_tx[\"numTxAttempts\"] = df_tx[\"numTxAttempts\"].astype(int)\n",
    "#df_tx[\"trackinstance\"] = df_tx[\"trackinstance\"].astype(int)\n",
    "df_tx = df_tx.fillna('')\n",
    "df_rx = pd.read_csv(r'data_csv/pkt_rx.csv', dtype=str)\n",
    "df_rx[\"asn\"] = df_rx[\"asn\"].astype(int)"
   ]
  },
  {
   "cell_type": "code",
   "execution_count": null,
   "metadata": {
    "collapsed": false,
    "deletable": true,
    "editable": true
   },
   "outputs": [],
   "source": [
    "#fill the reception columns in the tx df to know what paquet was received and ACK\n",
    "df_tx = fill_succes_tx(df_tx,df_rx)\n",
    "df_tx.to_csv('data_csv/pkt_tx.csv',index=False)"
   ]
  },
  {
   "cell_type": "markdown",
   "metadata": {
    "deletable": true,
    "editable": true
   },
   "source": [
    "# Create the reservation dataframe"
   ]
  },
  {
   "cell_type": "code",
   "execution_count": 12,
   "metadata": {
    "collapsed": true,
    "deletable": true,
    "editable": true
   },
   "outputs": [],
   "source": [
    "#creer la df qui contient les infos sur les res\n",
    "df_res_step=create_df_step_res(\"data/parsed/event/data_OTHER_ParserPrintf.log\")\n",
    "df_res_step.to_csv('data_csv/res_step.csv',index=False)"
   ]
  },
  {
   "cell_type": "code",
   "execution_count": 14,
   "metadata": {
    "collapsed": false,
    "deletable": true,
    "editable": true
   },
   "outputs": [],
   "source": [
    "# fichiers res\n",
    "df_res=create_df_res(\"data/parsed/event/data_OTHER_ParserPrintf.log\")\n",
    "df_res.to_csv('data_csv/res.csv',index=False)"
   ]
  },
  {
   "cell_type": "markdown",
   "metadata": {
    "collapsed": false,
    "deletable": true,
    "editable": true,
    "scrolled": true
   },
   "source": [
    "# create parent/son dataframe"
   ]
  },
  {
   "cell_type": "code",
   "execution_count": 15,
   "metadata": {
    "collapsed": false,
    "deletable": true,
    "editable": true
   },
   "outputs": [],
   "source": [
    "#créer les fichiers parent et fils \n",
    "df_parent = create_df_parent(\"data/parsed/event/data_OTHER_ParserPrintf.log\")\n",
    "df_parent.to_csv('data_csv/parent.csv',index=False)"
   ]
  },
  {
   "cell_type": "code",
   "execution_count": 16,
   "metadata": {
    "collapsed": false,
    "deletable": true,
    "editable": true
   },
   "outputs": [],
   "source": [
    "df_parent = pd.read_csv(r'data_csv/parent.csv', dtype=str)\n",
    "df_parent[\"asn\"] = df_parent[\"asn\"].astype(int)\n",
    "df_parent = df_parent.fillna('')"
   ]
  },
  {
   "cell_type": "code",
   "execution_count": 17,
   "metadata": {
    "collapsed": false,
    "deletable": true,
    "editable": true
   },
   "outputs": [],
   "source": [
    "df_fils = create_df_sons(df_parent)\n",
    "df_fils.to_csv('data_csv/sons.csv',index=False)"
   ]
  },
  {
   "cell_type": "code",
   "execution_count": 18,
   "metadata": {
    "collapsed": true,
    "deletable": true,
    "editable": true
   },
   "outputs": [],
   "source": [
    "df_fils = pd.read_csv(r'data_csv/sons.csv', dtype=str)\n",
    "df_fils[\"asn\"] = df_fils[\"asn\"].astype(int)"
   ]
  },
  {
   "cell_type": "code",
   "execution_count": null,
   "metadata": {
    "collapsed": true,
    "deletable": true,
    "editable": true
   },
   "outputs": [],
   "source": [
    " "
   ]
  },
  {
   "cell_type": "code",
   "execution_count": 19,
   "metadata": {
    "collapsed": true,
    "deletable": true,
    "editable": true
   },
   "outputs": [],
   "source": [
    "df_res = pd.read_csv(r'data_csv/res.csv', dtype=str)\n",
    "df_res[\"numAttempts\"] = df_res[\"numAttempts\"].astype(int)\n",
    "#df_res[\"nb_sibl\"] = df_res[\"nb_sibl\"].astype(int)\n",
    "df_res[\"succes\"] = df_res[\"succes\"].astype(int)\n",
    "df_res[\"state\"] = df_res[\"state\"].astype(int)\n",
    "df_res[\"asn creation\"] = df_res[\"asn creation\"].astype(int)\n",
    "df_res = df_res.fillna('')\n",
    "df_res.sort_values(['asn creation', 'asn_req'], ascending=[True, True], inplace=True)"
   ]
  },
  {
   "cell_type": "code",
   "execution_count": 20,
   "metadata": {
    "collapsed": false,
    "deletable": true,
    "editable": true
   },
   "outputs": [],
   "source": [
    "df_res = fill_nb_siblings(df_res, df_fils ,df_parent)\n",
    "df_res.to_csv('data_csv/res.csv',index=False)"
   ]
  },
  {
   "cell_type": "code",
   "execution_count": null,
   "metadata": {
    "collapsed": true,
    "deletable": true,
    "editable": true
   },
   "outputs": [],
   "source": []
  },
  {
   "cell_type": "code",
   "execution_count": 21,
   "metadata": {
    "collapsed": false,
    "deletable": true,
    "editable": true
   },
   "outputs": [],
   "source": [
    "# a lancer après les siblings\n",
    "df_res_sim = fill_simult(df_res, df_tx)\n",
    "df_res_sim.to_csv('data_csv/res_sim.csv',index=False)"
   ]
  },
  {
   "cell_type": "code",
   "execution_count": null,
   "metadata": {
    "collapsed": true,
    "deletable": true,
    "editable": true
   },
   "outputs": [],
   "source": []
  },
  {
   "cell_type": "code",
   "execution_count": 22,
   "metadata": {
    "collapsed": true,
    "deletable": true,
    "editable": true
   },
   "outputs": [],
   "source": [
    "df_res = pd.read_csv(r'data_csv/res_sim.csv', dtype=str)\n",
    "df_res[\"numAttempts\"] = df_res[\"numAttempts\"].astype(int)\n",
    "df_res[\"nb_sibl\"] = df_res[\"nb_sibl\"].astype(int)\n",
    "df_res[\"succes\"] = df_res[\"succes\"].astype(int)\n",
    "df_res[\"state\"] = df_res[\"state\"].astype(int)\n",
    "df_res[\"asn creation\"] = df_res[\"asn creation\"].astype(int)\n",
    "df_res = df_res.fillna('')\n",
    "df_res.sort_values(['asn creation', 'asn_req', 'asn_tx'], ascending=[True, True, True], inplace=True)"
   ]
  },
  {
   "cell_type": "code",
   "execution_count": null,
   "metadata": {
    "collapsed": true,
    "deletable": true,
    "editable": true
   },
   "outputs": [],
   "source": []
  },
  {
   "cell_type": "code",
   "execution_count": null,
   "metadata": {
    "collapsed": true,
    "deletable": true,
    "editable": true
   },
   "outputs": [],
   "source": []
  }
 ],
 "metadata": {
  "kernelspec": {
   "display_name": "Python 2",
   "language": "python",
   "name": "python2"
  },
  "language_info": {
   "codemirror_mode": {
    "name": "ipython",
    "version": 2
   },
   "file_extension": ".py",
   "mimetype": "text/x-python",
   "name": "python",
   "nbconvert_exporter": "python",
   "pygments_lexer": "ipython2",
   "version": "2.7.12"
  }
 },
 "nbformat": 4,
 "nbformat_minor": 2
}
