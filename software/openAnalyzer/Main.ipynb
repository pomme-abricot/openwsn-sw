{
 "cells": [
  {
   "cell_type": "code",
   "execution_count": 1,
   "metadata": {
    "collapsed": false,
    "deletable": true,
    "editable": true
   },
   "outputs": [],
   "source": [
    "from parsing import *"
   ]
  },
  {
   "cell_type": "code",
   "execution_count": 4,
   "metadata": {
    "collapsed": true,
    "deletable": true,
    "editable": true
   },
   "outputs": [],
   "source": [
    "list_file = [\"sim_4\"]\n",
    "#list_file = [\"sim_2\",'sim_3',\"sim_1\"]"
   ]
  },
  {
   "cell_type": "code",
   "execution_count": 5,
   "metadata": {
    "collapsed": false,
    "deletable": true,
    "editable": true
   },
   "outputs": [
    {
     "name": "stdout",
     "output_type": "stream",
     "text": [
      "starting parsing file :  data/sim_4.log ... \n",
      "file parsed \n",
      "Starting to create dataframe ... \n",
      "dataframes TX and RX done\n",
      "error:Reservation 15 failed without failed message\n",
      "error:Reservation 22 failed without failed message\n",
      "error:Reservation 34 failed without failed message\n",
      "error:Reservation 36 failed without failed message\n",
      "error:Reservation 52 failed without failed message\n",
      "dataframe res done\n",
      "dataframe parent and sons done\n"
     ]
    }
   ],
   "source": [
    "for el in list_file:\n",
    "    parse(el)                                                                                                                                                                                                                                                        "
   ]
  }
 ],
 "metadata": {
  "kernelspec": {
   "display_name": "Python 2",
   "language": "python",
   "name": "python2"
  },
  "language_info": {
   "codemirror_mode": {
    "name": "ipython",
    "version": 2
   },
   "file_extension": ".py",
   "mimetype": "text/x-python",
   "name": "python",
   "nbconvert_exporter": "python",
   "pygments_lexer": "ipython2",
   "version": "2.7.12"
  }
 },
 "nbformat": 4,
 "nbformat_minor": 2
}
